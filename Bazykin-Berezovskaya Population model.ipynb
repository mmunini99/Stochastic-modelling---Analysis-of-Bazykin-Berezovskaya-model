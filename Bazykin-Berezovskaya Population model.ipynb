{
 "cells": [
  {
   "cell_type": "code",
   "execution_count": null,
   "metadata": {},
   "outputs": [],
   "source": [
    "include(\"BazykinBerezovskayaDeterministicPopulationModelClass.jl\")\n",
    "include(\"BazykinBerezovskayaStochasticPopulationModelClass.jl\")\n",
    "include(\"PlotFiguresUtility.jl\")\n",
    "include(\"PhasePortraits.jl\")\n",
    "include(\"SolutionSystem.jl\")\n",
    "import .BazykinBerezovskayaDeterministicPopulationModelClass as BBDPM\n",
    "import .BazykinBerezovskayaStochasticPopulationModelClass as BBSPM\n",
    "import .PlotFiguresUtility as PF\n",
    "import .PhasePortraits as PHA\n",
    "import .SimulationStochasticEnding as SSEnd"
   ]
  },
  {
   "cell_type": "markdown",
   "metadata": {},
   "source": [
    "# BAZYKIN - BEREZOCSKAYA DETERMINISTIC POPULATION MODEL"
   ]
  },
  {
   "cell_type": "markdown",
   "metadata": {},
   "source": [
    "The model is the following one:\n",
    "\n",
    "$$\n",
    "\\begin{cases}\n",
    "\\frac{dx}{dt} = rx(x-l)(k-x) - xy \\\\[10pt]\n",
    "\\frac{dy}{dt} = y(x-m)\n",
    "\\end{cases}\n",
    "$$\n",
    "\n",
    "\n",
    "where $x$ and $y$ are the proportion of prey and predators in a closed environment. $r$ is the intrinsic growth, $l$ is the prey survival threshold (Allee effect), $k$ is the carrying capacity of the system and $m$ is the mortality of the predators.\n",
    "\n",
    "The conditions are: $r,l,k,m > 0$ and $l < k$.\n",
    "\n",
    "\n",
    "Conducting a qualitative analysis, it has been found that the attractor points:\n",
    "\n",
    "\n",
    "$$\n",
    "\\begin{cases}\n",
    "E_1 = (0;0) \\quad \\forall r,l,k,m \\\\[5pt]\n",
    "E_2 = (k;0) \\quad m>k \\\\[5pt]\n",
    "E_3 = (m;m(m-l)(k-m)) \\quad m \\in [\\frac{l+k}{2};k] \\\\\n",
    "\\end{cases}\n",
    "$$\n",
    "\n",
    "To be precise there is another attractor point, which is not stable, that is $E_4 = (0;l)$.\n",
    "\n",
    "The system has a gloabl attractor point, that is $E_1$ when $m$ is lower than $l$. When  $m \\in [\\frac{l+k}{2}:k]$, there will be two local attractors: $E_1$ and $E_3$. If $m \\in [l;\\frac{l+k}{2}]$ a stable cycle appears since $\\frac{l+k}{2}$ is a point of Andronov-Hopf bifurcation. When $m>k$ than there will be two local attractors: $E_1$ and $E_2$. "
   ]
  },
  {
   "cell_type": "markdown",
   "metadata": {},
   "source": [
    "Example of trajectory"
   ]
  },
  {
   "cell_type": "code",
   "execution_count": 8,
   "metadata": {},
   "outputs": [],
   "source": [
    "deterministic_system = BBDPM.BazykinBerezovskayaDeterministicPopulationModel(r=1.0, l=0.5, k=1.0, m=0.8);"
   ]
  },
  {
   "cell_type": "code",
   "execution_count": 9,
   "metadata": {},
   "outputs": [],
   "source": [
    "tr_x, tr_y, time_sim = BBDPM.simulate_deterministic_traj(deterministic_system, 0.9, 0.1, 100.0, 5000);  # Call the simulation"
   ]
  },
  {
   "cell_type": "code",
   "execution_count": null,
   "metadata": {},
   "outputs": [],
   "source": [
    "PF.PlotPredPreyTrajectories(time_sim, tr_x, tr_y, \"Population dynamics for r = 0.9, l=0.5, k=1.0 and m=0.8\")"
   ]
  },
  {
   "cell_type": "markdown",
   "metadata": {},
   "source": [
    "Storing simulations for differnt $m$ and initial conditions"
   ]
  },
  {
   "cell_type": "markdown",
   "metadata": {},
   "source": [
    "*CASE 1*\n",
    "\n",
    "We will set $m = 0.4$. As presented in the qualitative analysis of the deterministic system, for this parameter and having fixed the others, there is only one attractor, also global: $XY_e = (0;0)$."
   ]
  },
  {
   "cell_type": "code",
   "execution_count": null,
   "metadata": {},
   "outputs": [],
   "source": [
    "list_of_x = collect(range(0.7, stop=0.9, length=20))\n",
    "list_of_y = collect(range(0.3, stop=0.1, length=20))\n",
    "\n",
    "df_1 = PHA.StorePhaseDeterministic(1.0,\n",
    "                         0.5, \n",
    "                         1.0, \n",
    "                         0.4, \n",
    "                         1000.0, \n",
    "                         100000, \n",
    "                         list_of_x,\n",
    "                         list_of_y);\n",
    "\n",
    "\n",
    "PF.PlotPhasePortraits(df_1, \"Phase Portraits, with m = 0.4\")"
   ]
  },
  {
   "cell_type": "markdown",
   "metadata": {},
   "source": [
    "*CASE 2*\n",
    "\n",
    "We will set $m = 0.78$. As presented in the qualitative analysis of the deterministic system, for this parameter and having fixed the others, there is a local attractor $XY_e = (0;0)$ and since $m \\in [\\frac{l+k}{2} ; k] = [0.75; 1]$, it will be present also another local attractor $XY_e = (0.78;0.0336)$."
   ]
  },
  {
   "cell_type": "code",
   "execution_count": null,
   "metadata": {},
   "outputs": [],
   "source": [
    "df_2 = PHA.StorePhaseDeterministic(1.0,\n",
    "                         0.5, \n",
    "                         1.0, \n",
    "                         0.78, \n",
    "                         1000.0, \n",
    "                         100000, \n",
    "                         list_of_x,\n",
    "                         list_of_y);\n",
    "\n",
    "\n",
    "PF.PlotPhasePortraits(df_2, \"Phase Portraits, with m = 0.78\")"
   ]
  },
  {
   "cell_type": "markdown",
   "metadata": {},
   "source": [
    "*CASE 3*\n",
    "\n",
    "We will set $m = 1.1$. As presented in the qualitative analysis of the deterministic system, for this parameter and having fixed the others, there is a local attractor $XY_e = (0;0)$ and since $m > k$, it will be present also another local attractor $XY_e = (k;0)$."
   ]
  },
  {
   "cell_type": "code",
   "execution_count": null,
   "metadata": {},
   "outputs": [],
   "source": [
    "df_3 = PHA.StorePhaseDeterministic(1.0,\n",
    "                         0.5, \n",
    "                         1.0, \n",
    "                         1.1, \n",
    "                         1000.0, \n",
    "                         100000, \n",
    "                         list_of_x,\n",
    "                         list_of_y);\n",
    "\n",
    "\n",
    "PF.PlotPhasePortraits(df_3, \"Phase Portraits, with m = 1.1\")"
   ]
  },
  {
   "cell_type": "markdown",
   "metadata": {},
   "source": [
    "*CASE 4*\n",
    "\n",
    "As presented in the qualitative analysis of the deterministic system, for this parameter and having fixed the others, there is a local attractor $XY_e = (0;0)$ and since $m \\in [l ; \\frac{l+k}{2}] = [0.5; 0.75]$, it will be present a limit cycle due to the presence of Andronov-Hopf bifurcation.\n",
    "\n",
    "\n",
    "Here, to observe this phenomenology, I had to specifically select a narrow eange of initial conditions. Also. this effect is so squeezy that the range of m to observe it goes from 0.74 to 0.749. Indeed, as the parameter $m$ approach 0.74, the cycle becomes more large and when $m$ goes to 0.739 the cycle disappear.\n",
    "\n"
   ]
  },
  {
   "cell_type": "code",
   "execution_count": null,
   "metadata": {},
   "outputs": [],
   "source": [
    "list_of_x2 = collect(range(0.85, stop=0.95, length=20))\n",
    "list_of_y2 = collect(range(0.15, stop=0.05, length=20))\n",
    "\n",
    "df_4 = PHA.StorePhaseDeterministic(1.0,\n",
    "                         0.5, \n",
    "                         1.0, \n",
    "                         0.74, \n",
    "                         1000.0, \n",
    "                         100000, \n",
    "                         list_of_x2,\n",
    "                         list_of_y2);\n",
    "\n",
    "\n",
    "PF.PlotPhasePortraits(df_4, \"Phase Portraits, with m = 0.74\")"
   ]
  },
  {
   "cell_type": "code",
   "execution_count": null,
   "metadata": {},
   "outputs": [],
   "source": [
    "df_5 = PHA.StorePhaseDeterministic(1.0,\n",
    "                         0.5, \n",
    "                         1.0, \n",
    "                         0.749, \n",
    "                         1000.0, \n",
    "                         100000, \n",
    "                         list_of_x2,\n",
    "                         list_of_y2);\n",
    "\n",
    "\n",
    "PF.PlotPhasePortraits(df_5, \"Phase Portraits, with m = 0.749\")"
   ]
  },
  {
   "cell_type": "markdown",
   "metadata": {},
   "source": [
    "# BAZYKIN - BEREZOCSKAYA STOCHASTIC POPULATION MODEL"
   ]
  },
  {
   "cell_type": "markdown",
   "metadata": {},
   "source": [
    "The model is the following one:\n",
    "\n",
    "$$\n",
    "\\begin{cases}\n",
    "\\frac{dx}{dt} = rx(x-l^*)(k-x) - xy \\\\[10pt]\n",
    "\\frac{dy}{dt} = y(x-m^*)\n",
    "\\end{cases}\n",
    "$$\n",
    "\n",
    "\n",
    "with:\n",
    "\n",
    "$$\n",
    "\\begin{cases}\n",
    "l^* = l + a\\xi_l(t) \\\\\n",
    "m^* = m + b\\xi_m(t)\n",
    "\\end{cases}\n",
    "$$\n",
    "\n",
    "\n",
    "where $\\xi$ is a White Gaussian Noise.\n"
   ]
  },
  {
   "cell_type": "code",
   "execution_count": 3,
   "metadata": {},
   "outputs": [],
   "source": [
    "stochastic_system = BBSPM.BazykinBerezovskayaStochasticPopulationModel(r=1.0, l=0.5, k=1.0, m=0.8, a=0.02, b=0.02);"
   ]
  },
  {
   "cell_type": "code",
   "execution_count": 4,
   "metadata": {},
   "outputs": [],
   "source": [
    "tr_x_s, tr_y_s, time_sim_s = BBSPM.simulate_stochastic_traj(stochastic_system, 0.9, 0.1, 100.0, 5000);  # Call the simulation"
   ]
  },
  {
   "cell_type": "code",
   "execution_count": null,
   "metadata": {},
   "outputs": [],
   "source": [
    "PF.PlotPredPreyTrajectories(time_sim_s, tr_x_s, tr_y_s, \"Pop. dynamics for r = 0.9, l=0.5, k=1.0, m=0.8, a = b = 0.02\")"
   ]
  },
  {
   "cell_type": "markdown",
   "metadata": {},
   "source": [
    "*CASE 2*\n"
   ]
  },
  {
   "cell_type": "code",
   "execution_count": null,
   "metadata": {},
   "outputs": [],
   "source": [
    "df_s2_01 = PHA.StorePhaseStochastic(1.0,\n",
    "                         0.5, \n",
    "                         1.0, \n",
    "                         0.78, \n",
    "                         0.01,\n",
    "                         0.01,\n",
    "                         1000.0, \n",
    "                         100000, \n",
    "                         list_of_x,\n",
    "                         list_of_y);\n",
    "\n",
    "\n",
    "PF.PlotPhasePortraits(df_s2_01, \"Phase Portraits, with m = 0.78, a = b = 0.01\")"
   ]
  },
  {
   "cell_type": "code",
   "execution_count": null,
   "metadata": {},
   "outputs": [],
   "source": [
    "prob_exit_078 = SSEnd.probability_of_exiting(1.0, 0.5, 1.0, 0.78, collect(range(0.005,0.05,step=0.005)), collect(range(0.005,0.05,step=0.005)), 1000.0, 10000, 0.78, 0.0336, 1000 )\n",
    "PF.plot_probabilities_exiting(prob_exit_078, collect(range(0.005,0.05,step=0.005)), \"Exit ptob. with r = k = 1, l = 0.5 and m = 0.78\")"
   ]
  },
  {
   "cell_type": "markdown",
   "metadata": {},
   "source": [
    "*CASE 3*"
   ]
  },
  {
   "cell_type": "code",
   "execution_count": null,
   "metadata": {},
   "outputs": [],
   "source": [
    "df_s3_01 = PHA.StorePhaseStochastic(1.0,\n",
    "                         0.5, \n",
    "                         1.0, \n",
    "                         1.1, \n",
    "                         0.01,\n",
    "                         0.01,\n",
    "                         1000.0, \n",
    "                         100000, \n",
    "                         list_of_x,\n",
    "                         list_of_y);\n",
    "\n",
    "\n",
    "PF.PlotPhasePortraits(df_s3_01, \"Phase Portraits, with m = 1.1, a = b = 0.01\")"
   ]
  },
  {
   "cell_type": "code",
   "execution_count": null,
   "metadata": {},
   "outputs": [],
   "source": [
    "prob_exit_11 = SSEnd.probability_of_exiting(1.0, 0.5, 1.0, 1.1, collect(range(0.005,0.05,step=0.005)), collect(range(0.005,0.05,step=0.005)), 1000.0, 10000, 0.9, 0.0336, 1000 )\n",
    "PF.plot_probabilities_exiting(prob_exit_11, collect(range(0.005,0.05,step=0.005)), \"Exit ptob. with r = k = 1, l = 0.5 and m = 1.1\")"
   ]
  },
  {
   "cell_type": "markdown",
   "metadata": {},
   "source": [
    "*CASE 4: NOISE*\n",
    "Here, it is plotted the phase portraits for the same parameters shown in the deterministic case, but this time a white noise has been intriduced both on *l* and *m*, with an equal magnitude parameter $a = b = 0.005$. In this case the noise has not a significant magnitude to perturb the system and so the phase portraits is similar to the deterministic one, however it is not possible to see smooth phase lines anymore."
   ]
  },
  {
   "cell_type": "code",
   "execution_count": null,
   "metadata": {},
   "outputs": [],
   "source": [
    "df_s_e005 = PHA.StorePhaseStochastic(1.0,\n",
    "                         0.5, \n",
    "                         1.0, \n",
    "                         0.74,\n",
    "                         0.005,\n",
    "                         0.005, \n",
    "                         1000.0, \n",
    "                         100000, \n",
    "                         list_of_x2,\n",
    "                         list_of_y2);\n",
    "\n",
    "\n",
    "PF.PlotPhasePortraits(df_s_e005, \"Phase Portraits, with m = 0.74, a = b = 0.005\")"
   ]
  },
  {
   "cell_type": "markdown",
   "metadata": {},
   "source": [
    "If the magnitude increases to $a = b = 0.015$, it is possible to see the noise effect on the deterministic system. The behaviour is still similar to the deterministic one, however, the trajectories are perturbed in a substantial way."
   ]
  },
  {
   "cell_type": "code",
   "execution_count": null,
   "metadata": {},
   "outputs": [],
   "source": [
    "df_s_e015 = PHA.StorePhaseStochastic(1.0,\n",
    "                         0.5, \n",
    "                         1.0, \n",
    "                         0.74,\n",
    "                         0.015,\n",
    "                         0.015, \n",
    "                         1000.0, \n",
    "                         100000, \n",
    "                         list_of_x2,\n",
    "                         list_of_y2);\n",
    "\n",
    "\n",
    "PF.PlotPhasePortraits(df_s_e015, \"Phase Portraits, with m = 0.74, a = b = 0.015\")"
   ]
  },
  {
   "cell_type": "markdown",
   "metadata": {},
   "source": [
    "When the magnitude's noise reaches $a = b = 0.05$ the deterministic system is perturbed and only few cycles remains. Indeed. the noise intensity is enough to makes the trajectories exit from the orbit of the cycles. Once escaped from the cycle, these tarjectories are attracted by $X_e = (0;0)$."
   ]
  },
  {
   "cell_type": "code",
   "execution_count": null,
   "metadata": {},
   "outputs": [],
   "source": [
    "df_s_e05 = PHA.StorePhaseStochastic(1.0,\n",
    "                         0.5, \n",
    "                         1.0, \n",
    "                         0.74,\n",
    "                         0.05,\n",
    "                         0.05, \n",
    "                         1000.0, \n",
    "                         100000, \n",
    "                         list_of_x2,\n",
    "                         list_of_y2);\n",
    "\n",
    "\n",
    "PF.PlotPhasePortraits(df_s_e05, \"Phase Portraits, with m = 0.74, a = b = 0.05\")"
   ]
  },
  {
   "cell_type": "markdown",
   "metadata": {},
   "source": [
    "If $a = b >= 0.15$, then there are no more cycles and there is only a global attractor $X_e = (0;0)$."
   ]
  },
  {
   "cell_type": "code",
   "execution_count": null,
   "metadata": {},
   "outputs": [],
   "source": [
    "df_s_e15 = PHA.StorePhaseStochastic(1.0,\n",
    "                         0.5, \n",
    "                         1.0, \n",
    "                         0.74,\n",
    "                         0.15,\n",
    "                         0.15, \n",
    "                         1000.0, \n",
    "                         100000, \n",
    "                         list_of_x2,\n",
    "                         list_of_y2);\n",
    "\n",
    "\n",
    "PF.PlotPhasePortraits(df_s_e15, \"Phase Portraits, with m = 0.74, a = b = 0.15\")"
   ]
  },
  {
   "cell_type": "code",
   "execution_count": 14,
   "metadata": {},
   "outputs": [],
   "source": [
    "tensor_sol = SSEnd.GenerateSolution([1.0], [0.5], [1.0], collect(range(0.6, stop=1.1, step=0.005)), [0.01], [0.01], [1000.0, 1050.0, 1100.0], 10000, 0.8, 0.1, \"m\", 100);\n",
    "tensor_sol1 = SSEnd.GenerateSolution([1.0], [0.5], [1.0], collect(range(0.6, stop=1.1, step=0.005)), [0.05], [0.05], [1000.0, 1050.0, 1100.0], 10000, 0.8, 0.1, \"m\", 100);\n",
    "tensor_sol2 = SSEnd.GenerateSolution([1.0], [0.5], [1.0], collect(range(0.6, stop=1.1, step=0.005)), [0.1], [0.1], [1000.0, 1050.0, 1100.0], 10000, 0.8, 0.1, \"m\", 100);\n"
   ]
  },
  {
   "cell_type": "code",
   "execution_count": null,
   "metadata": {},
   "outputs": [],
   "source": [
    "PF.PlotEndingTrajectories([tensor_sol,tensor_sol1,tensor_sol2], collect(range(0.6, stop=1.1, step=0.005)), \"prey\", \"Ending state after T in [1000, 1050, 1100], with m from 0.75 to 0.9\", \"m\", \"prey\", [\"blue\", \"green\", \"red\"])"
   ]
  },
  {
   "cell_type": "code",
   "execution_count": null,
   "metadata": {},
   "outputs": [],
   "source": [
    "PF.PlotEndingTrajectories([tensor_sol,tensor_sol1,tensor_sol2], collect(range(0.6, stop=1.1, step=0.005)), \"predator\", \"Ending state after T in [1000, 1050, 1100], with m from 0.75 to 0.9\", \"m\", \"predator\", [\"blue\", \"green\", \"red\"])"
   ]
  },
  {
   "cell_type": "code",
   "execution_count": null,
   "metadata": {},
   "outputs": [],
   "source": [
    "prob_exit_074 = SSEnd.probability_of_exiting(1.0, 0.5, 1.0, 0.74, collect(range(0.005,0.05,step=0.005)), collect(range(0.005,0.05,step=0.005)), 1000.0, 10000, 0.75, 0.05, 1000 )\n",
    "PF.plot_probabilities_exiting(prob_exit_074, collect(range(0.005,0.05,step=0.005)), \"Exit ptob. with r = k = 1, l = 0.5 and m = 0.74\")"
   ]
  },
  {
   "cell_type": "markdown",
   "metadata": {},
   "source": [
    "# COEXISTENCE"
   ]
  },
  {
   "cell_type": "code",
   "execution_count": null,
   "metadata": {},
   "outputs": [],
   "source": [
    "SSEnd.link_analysis_lm_det(1.0, collect(range(0.05, stop=0.95, length=40)), 1.0, collect(range(0.05, stop=0.95, length=40)), 1000.0, 100, [0.0, 1.0], 100, 100)"
   ]
  },
  {
   "cell_type": "code",
   "execution_count": null,
   "metadata": {},
   "outputs": [],
   "source": [
    "AA = Array{Array{Float64, 2}, 2}(undef, 40, 40)\n",
    "AA[2,2] = zeros(Int, 100, 100)"
   ]
  },
  {
   "cell_type": "code",
   "execution_count": null,
   "metadata": {},
   "outputs": [],
   "source": []
  },
  {
   "cell_type": "code",
   "execution_count": 31,
   "metadata": {},
   "outputs": [],
   "source": [
    "list_of_x_coe = collect(range(0.05, stop=0.95, length=40))\n",
    "list_of_y_coe = collect(range(0.95, stop=0.05, length=40));"
   ]
  },
  {
   "cell_type": "code",
   "execution_count": null,
   "metadata": {},
   "outputs": [],
   "source": [
    "df_coe_1 = PHA.StorePhaseStochastic(0.6,\n",
    "                         0.2, \n",
    "                         0.70, \n",
    "                         0.49, \n",
    "                         0.1,\n",
    "                         0.1,\n",
    "                         1000.0, \n",
    "                         100000, \n",
    "                         list_of_x_coe,\n",
    "                         list_of_y_coe);\n",
    "\n",
    "\n",
    "PF.PlotPhasePortraits(df_coe_1, \"Phase Portraits, with, k = 0.7 m = 0.65, a = b = 0.005\")"
   ]
  },
  {
   "cell_type": "code",
   "execution_count": null,
   "metadata": {},
   "outputs": [],
   "source": [
    "tensor_sol = SSEnd.GenerateSolution([1.0], [0.5], [1.0], collect(range(0.6, stop=1.1, step=0.005)), [0.01], [0.01], [1000.0, 1050.0, 1100.0], 10000, 0.8, 0.1, \"m\", 100);\n",
    "tensor_sol1 = SSEnd.GenerateSolution([1.0], [0.5], [1.0], collect(range(0.6, stop=1.1, step=0.005)), [0.05], [0.05], [1000.0, 1050.0, 1100.0], 10000, 0.8, 0.1, \"m\", 100);\n",
    "tensor_sol2 = SSEnd.GenerateSolution([1.0], [0.5], [1.0], collect(range(0.6, stop=1.1, step=0.005)), [0.1], [0.1], [1000.0, 1050.0, 1100.0], 10000, 0.8, 0.1, \"m\", 100);"
   ]
  },
  {
   "cell_type": "code",
   "execution_count": null,
   "metadata": {},
   "outputs": [],
   "source": [
    "PF.PlotEndingTrajectories([tensor_sol,tensor_sol1,tensor_sol2], collect(range(0.6, stop=1.1, step=0.005)), \"prey\", \"Ending state after T in [1000, 1050, 1100], with m from 0.75 to 0.9\", \"m\", \"prey\", [\"blue\", \"green\", \"red\"])"
   ]
  },
  {
   "cell_type": "code",
   "execution_count": null,
   "metadata": {},
   "outputs": [],
   "source": [
    "PF.PlotEndingTrajectories([tensor_sol,tensor_sol1,tensor_sol2], collect(range(0.6, stop=1.1, step=0.005)), \"predator\", \"Ending state after T in [1000, 1050, 1100], with m from 0.75 to 0.9\", \"m\", \"predator\", [\"blue\", \"green\", \"red\"])"
   ]
  },
  {
   "cell_type": "code",
   "execution_count": null,
   "metadata": {},
   "outputs": [],
   "source": [
    "prob_exit_074 = SSEnd.probability_of_exiting(1.0, 0.5, 1.0, 0.74, collect(range(0.005,0.05,step=0.005)), collect(range(0.005,0.05,step=0.005)), 1000.0, 10000, 0.75, 0.05, 1000 )\n",
    "PF.plot_probabilities_exiting(prob_exit_074, collect(range(0.005,0.05,step=0.005)), \"Exit ptob. with r = k = 1, l = 0.5 and m = 0.74\")"
   ]
  },
  {
   "cell_type": "markdown",
   "metadata": {},
   "source": [
    "# FOO"
   ]
  },
  {
   "cell_type": "code",
   "execution_count": null,
   "metadata": {},
   "outputs": [],
   "source": [
    "using LinearAlgebra\n",
    "using Plots\n",
    "\n",
    "# Parametri\n",
    "x_a = [0.78, 0.0616]  # Centro dell'ellisse\n",
    "W_matrix = [-0.1987 0.0308; 0.0308 -0.0175]  # Matrice W\n",
    "W_inv = inv(W_matrix)  # Inversa della matrice W\n",
    "\n",
    "ek = -log(1 - 0.95) * (0.005)^2  # Calcolare il valore di ek\n",
    "\n",
    "# Calcolare gli autovalori e gli autovettori di W_inv\n",
    "eigvals, eigvecs = eigen(W_inv)\n",
    "normalized_eigvecs = normalize.(eachcol(eigvecs))\n"
   ]
  },
  {
   "cell_type": "code",
   "execution_count": null,
   "metadata": {},
   "outputs": [],
   "source": [
    "\n",
    "# Forzare gli autovalori negativi o troppo piccoli a essere zero\n",
    "eigvals = max.(eigvals, 0.0)  # Sostituisce valori negativi con zero\n",
    "\n",
    "# Radii dell'ellisse (lunghezza degli assi)\n",
    "radii = sqrt.(2 * ek ./ eigvals)\n",
    "\n",
    "# Angolo di rotazione (orientamento dell'ellisse)\n",
    "angle = atan(eigvecs[2, 1], eigvecs[1, 1])\n",
    "\n",
    "# Parametri per tracciare l'ellisse (100 punti)\n",
    "theta = LinRange(0, 2 * π, 100)\n",
    "ellipse_points = [radii[1] * cos.(theta); radii[2] * sin.(theta)]  # Punti ellittici\n",
    "\n",
    "# Ruotare i punti dell'ellisse secondo gli autovettori di W_inv\n",
    "rotation_matrix = [cos(angle) -sin(angle); sin(angle) cos(angle)]\n",
    "\n",
    "# Applicare la rotazione a ciascun punto\n",
    "rotated_ellipse = rotation_matrix * ellipse_points  # Matr. di rotazione (applicata a tutti i punti)\n",
    "\n",
    "# Traslare l'ellisse al centro x_a\n",
    "ellipse_x = rotated_ellipse[1, :] .+ x_a[1]\n",
    "ellipse_y = rotated_ellipse[2, :] .+ x_a[2]\n",
    "\n",
    "# Plot\n",
    "plot(ellipse_x, ellipse_y, label=\"Ellisse\", aspect_ratio=1)\n",
    "scatter!([x_a[1]], [x_a[2]], color=:red, label=\"Centro (x_a)\")\n",
    "xlabel!(\"X\")\n",
    "ylabel!(\"Y\")\n",
    "title!(\"Ellisse definita da (x - x_a)^T W^{-1} (x - x_a) = 2ek\")\n",
    "grid!(:on)\n"
   ]
  }
 ],
 "metadata": {
  "kernelspec": {
   "display_name": "Julia 1.10.2",
   "language": "julia",
   "name": "julia-1.10"
  },
  "language_info": {
   "file_extension": ".jl",
   "mimetype": "application/julia",
   "name": "julia",
   "version": "1.10.2"
  }
 },
 "nbformat": 4,
 "nbformat_minor": 2
}
